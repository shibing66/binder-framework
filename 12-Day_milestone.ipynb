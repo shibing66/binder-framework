{
 "cells": [
  {
   "cell_type": "code",
   "execution_count": 4,
   "id": "0a60e5c7-3bf1-4e6c-b45f-bd86ca0118c3",
   "metadata": {},
   "outputs": [
    {
     "data": {
      "text/plain": [
       "'1.3.4'"
      ]
     },
     "execution_count": 4,
     "metadata": {},
     "output_type": "execute_result"
    }
   ],
   "source": [
    "import pandas as pd\n",
    "pd.__version__"
   ]
  },
  {
   "cell_type": "code",
   "execution_count": 6,
   "id": "b79d641c-dd9a-4de1-bccb-247db128c3ba",
   "metadata": {},
   "outputs": [
    {
     "data": {
      "text/html": [
       "<div>\n",
       "<style scoped>\n",
       "    .dataframe tbody tr th:only-of-type {\n",
       "        vertical-align: middle;\n",
       "    }\n",
       "\n",
       "    .dataframe tbody tr th {\n",
       "        vertical-align: top;\n",
       "    }\n",
       "\n",
       "    .dataframe thead th {\n",
       "        text-align: right;\n",
       "    }\n",
       "</style>\n",
       "<table border=\"1\" class=\"dataframe\">\n",
       "  <thead>\n",
       "    <tr style=\"text-align: right;\">\n",
       "      <th></th>\n",
       "      <th>Company Name</th>\n",
       "      <th>company contact</th>\n",
       "      <th>company email</th>\n",
       "      <th>company phone</th>\n",
       "      <th>Address</th>\n",
       "      <th>City</th>\n",
       "      <th>State</th>\n",
       "      <th>Postcode</th>\n",
       "      <th>Industry</th>\n",
       "      <th>Industry descr</th>\n",
       "      <th>...</th>\n",
       "      <th>Savings from beginning receiving benefits</th>\n",
       "      <th>Borough</th>\n",
       "      <th>Latitude</th>\n",
       "      <th>Longitude</th>\n",
       "      <th>Community Board</th>\n",
       "      <th>Council District</th>\n",
       "      <th>Census Tract</th>\n",
       "      <th>BIN</th>\n",
       "      <th>BBL</th>\n",
       "      <th>NTA</th>\n",
       "    </tr>\n",
       "  </thead>\n",
       "  <tbody>\n",
       "    <tr>\n",
       "      <th>0</th>\n",
       "      <td>1 State Street</td>\n",
       "      <td>David Neiburg</td>\n",
       "      <td>eskoblo@energyspec.com</td>\n",
       "      <td>7186779077</td>\n",
       "      <td>1114 Avenue J</td>\n",
       "      <td>Brooklyn</td>\n",
       "      <td>NY</td>\n",
       "      <td>11230</td>\n",
       "      <td>Commercial</td>\n",
       "      <td>35 story building</td>\n",
       "      <td>...</td>\n",
       "      <td>349.78</td>\n",
       "      <td>Brooklyn</td>\n",
       "      <td>40.624784</td>\n",
       "      <td>-73.964920</td>\n",
       "      <td>314.0</td>\n",
       "      <td>44.0</td>\n",
       "      <td>534.0</td>\n",
       "      <td>3179818.0</td>\n",
       "      <td>3.067130e+09</td>\n",
       "      <td>Midwood</td>\n",
       "    </tr>\n",
       "    <tr>\n",
       "      <th>1</th>\n",
       "      <td>100 Church LLC</td>\n",
       "      <td>Edward A. Carroll</td>\n",
       "      <td>NaN</td>\n",
       "      <td>2125663000</td>\n",
       "      <td>100 Church Street</td>\n",
       "      <td>NY</td>\n",
       "      <td>NY</td>\n",
       "      <td>10007</td>\n",
       "      <td>Commercial</td>\n",
       "      <td>21 Floors</td>\n",
       "      <td>...</td>\n",
       "      <td>4423698.05</td>\n",
       "      <td>New York</td>\n",
       "      <td>40.712968</td>\n",
       "      <td>-74.009490</td>\n",
       "      <td>101.0</td>\n",
       "      <td>1.0</td>\n",
       "      <td>21.0</td>\n",
       "      <td>1001409.0</td>\n",
       "      <td>1.001250e+09</td>\n",
       "      <td>SoHo-TriBeCa-Civic Center-Little Italy</td>\n",
       "    </tr>\n",
       "    <tr>\n",
       "      <th>2</th>\n",
       "      <td>100 Wall Investments</td>\n",
       "      <td>Jerry Branam</td>\n",
       "      <td>NaN</td>\n",
       "      <td>2122487160</td>\n",
       "      <td>96 Wall Street</td>\n",
       "      <td>New York</td>\n",
       "      <td>NY</td>\n",
       "      <td>10005</td>\n",
       "      <td>Landlord</td>\n",
       "      <td>NaN</td>\n",
       "      <td>...</td>\n",
       "      <td>1814542.62</td>\n",
       "      <td>New York</td>\n",
       "      <td>40.705052</td>\n",
       "      <td>-74.007199</td>\n",
       "      <td>101.0</td>\n",
       "      <td>1.0</td>\n",
       "      <td>7.0</td>\n",
       "      <td>1000875.0</td>\n",
       "      <td>1.000380e+09</td>\n",
       "      <td>Battery Park City-Lower Manhattan</td>\n",
       "    </tr>\n",
       "    <tr>\n",
       "      <th>3</th>\n",
       "      <td>1-10 Bush Terminal Owner LP</td>\n",
       "      <td>Andrew Kimball</td>\n",
       "      <td>akimball@industrycity.com</td>\n",
       "      <td>3474178429</td>\n",
       "      <td>220 36th St, Suite 2A</td>\n",
       "      <td>Brooklyn</td>\n",
       "      <td>NY</td>\n",
       "      <td>11232</td>\n",
       "      <td>Landlord</td>\n",
       "      <td>Special Eligible Premises for eligible businesses</td>\n",
       "      <td>...</td>\n",
       "      <td>6755.31</td>\n",
       "      <td>Brooklyn</td>\n",
       "      <td>40.656061</td>\n",
       "      <td>-74.007334</td>\n",
       "      <td>307.0</td>\n",
       "      <td>38.0</td>\n",
       "      <td>2.0</td>\n",
       "      <td>3398687.0</td>\n",
       "      <td>3.006950e+09</td>\n",
       "      <td>Sunset Park West</td>\n",
       "    </tr>\n",
       "    <tr>\n",
       "      <th>4</th>\n",
       "      <td>120 Broadway Acquisitions JV, LLC (Ldmk)</td>\n",
       "      <td>Carl Letich</td>\n",
       "      <td>clettich@silvprop.com</td>\n",
       "      <td>2124064020</td>\n",
       "      <td>120 Broadway</td>\n",
       "      <td>New York</td>\n",
       "      <td>NY</td>\n",
       "      <td>10271</td>\n",
       "      <td>Commercial</td>\n",
       "      <td>NaN</td>\n",
       "      <td>...</td>\n",
       "      <td>3293055.08</td>\n",
       "      <td>New York</td>\n",
       "      <td>40.708546</td>\n",
       "      <td>-74.011041</td>\n",
       "      <td>101.0</td>\n",
       "      <td>1.0</td>\n",
       "      <td>7.0</td>\n",
       "      <td>1001026.0</td>\n",
       "      <td>1.000478e+09</td>\n",
       "      <td>Battery Park City-Lower Manhattan</td>\n",
       "    </tr>\n",
       "  </tbody>\n",
       "</table>\n",
       "<p>5 rows × 26 columns</p>\n",
       "</div>"
      ],
      "text/plain": [
       "                               Company Name    company contact  \\\n",
       "0                            1 State Street      David Neiburg   \n",
       "1                            100 Church LLC  Edward A. Carroll   \n",
       "2                      100 Wall Investments       Jerry Branam   \n",
       "3               1-10 Bush Terminal Owner LP     Andrew Kimball   \n",
       "4  120 Broadway Acquisitions JV, LLC (Ldmk)        Carl Letich   \n",
       "\n",
       "               company email company phone                Address      City  \\\n",
       "0     eskoblo@energyspec.com    7186779077          1114 Avenue J  Brooklyn   \n",
       "1                        NaN    2125663000      100 Church Street        NY   \n",
       "2                        NaN    2122487160         96 Wall Street  New York   \n",
       "3  akimball@industrycity.com    3474178429  220 36th St, Suite 2A  Brooklyn   \n",
       "4      clettich@silvprop.com    2124064020           120 Broadway  New York   \n",
       "\n",
       "  State  Postcode    Industry  \\\n",
       "0    NY     11230  Commercial   \n",
       "1    NY     10007  Commercial   \n",
       "2    NY     10005    Landlord   \n",
       "3    NY     11232    Landlord   \n",
       "4    NY     10271  Commercial   \n",
       "\n",
       "                                      Industry descr  ...  \\\n",
       "0                                  35 story building  ...   \n",
       "1                                          21 Floors  ...   \n",
       "2                                                NaN  ...   \n",
       "3  Special Eligible Premises for eligible businesses  ...   \n",
       "4                                                NaN  ...   \n",
       "\n",
       "  Savings from beginning receiving benefits   Borough   Latitude  Longitude  \\\n",
       "0                                    349.78  Brooklyn  40.624784 -73.964920   \n",
       "1                                4423698.05  New York  40.712968 -74.009490   \n",
       "2                                1814542.62  New York  40.705052 -74.007199   \n",
       "3                                   6755.31  Brooklyn  40.656061 -74.007334   \n",
       "4                                3293055.08  New York  40.708546 -74.011041   \n",
       "\n",
       "  Community Board  Council District  Census Tract        BIN           BBL  \\\n",
       "0           314.0              44.0         534.0  3179818.0  3.067130e+09   \n",
       "1           101.0               1.0          21.0  1001409.0  1.001250e+09   \n",
       "2           101.0               1.0           7.0  1000875.0  1.000380e+09   \n",
       "3           307.0              38.0           2.0  3398687.0  3.006950e+09   \n",
       "4           101.0               1.0           7.0  1001026.0  1.000478e+09   \n",
       "\n",
       "                                      NTA  \n",
       "0                                 Midwood  \n",
       "1  SoHo-TriBeCa-Civic Center-Little Italy  \n",
       "2       Battery Park City-Lower Manhattan  \n",
       "3                        Sunset Park West  \n",
       "4       Battery Park City-Lower Manhattan  \n",
       "\n",
       "[5 rows x 26 columns]"
      ]
     },
     "execution_count": 6,
     "metadata": {},
     "output_type": "execute_result"
    }
   ],
   "source": [
    "df = pd.read_csv('Value_of_Energy_Cost_Savings_Program_Savings_for_Businesses_-_FY2020.csv')\n",
    "df.head()"
   ]
  },
  {
   "cell_type": "code",
   "execution_count": 7,
   "id": "8b4dd632-e8a3-4c38-a371-d55db880dcf7",
   "metadata": {},
   "outputs": [
    {
     "name": "stdout",
     "output_type": "stream",
     "text": [
      "<class 'pandas.core.frame.DataFrame'>\n",
      "RangeIndex: 450 entries, 0 to 449\n",
      "Data columns (total 26 columns):\n",
      " #   Column                                     Non-Null Count  Dtype  \n",
      "---  ------                                     --------------  -----  \n",
      " 0   Company Name                               450 non-null    object \n",
      " 1   company contact                            450 non-null    object \n",
      " 2   company email                              433 non-null    object \n",
      " 3   company phone                              450 non-null    object \n",
      " 4   Address                                    450 non-null    object \n",
      " 5   City                                       450 non-null    object \n",
      " 6   State                                      450 non-null    object \n",
      " 7   Postcode                                   450 non-null    int64  \n",
      " 8   Industry                                   450 non-null    object \n",
      " 9   Industry descr                             434 non-null    object \n",
      " 10  Company Type                               450 non-null    object \n",
      " 11  Current fulltime                           446 non-null    float64\n",
      " 12  Job created                                11 non-null     float64\n",
      " 13  Job retain                                 14 non-null     float64\n",
      " 14  Effective Date                             450 non-null    object \n",
      " 15  Total Savings                              450 non-null    float64\n",
      " 16  Savings from beginning receiving benefits  450 non-null    float64\n",
      " 17  Borough                                    450 non-null    object \n",
      " 18  Latitude                                   409 non-null    float64\n",
      " 19  Longitude                                  409 non-null    float64\n",
      " 20  Community Board                            409 non-null    float64\n",
      " 21  Council District                           409 non-null    float64\n",
      " 22  Census Tract                               409 non-null    float64\n",
      " 23  BIN                                        401 non-null    float64\n",
      " 24  BBL                                        401 non-null    float64\n",
      " 25  NTA                                        409 non-null    object \n",
      "dtypes: float64(12), int64(1), object(13)\n",
      "memory usage: 91.5+ KB\n"
     ]
    }
   ],
   "source": [
    "df.info()"
   ]
  },
  {
   "cell_type": "code",
   "execution_count": 8,
   "id": "31c0bb3c-a06c-44f2-b9be-5402d67b5f26",
   "metadata": {},
   "outputs": [
    {
     "name": "stdout",
     "output_type": "stream",
     "text": [
      "439\n"
     ]
    }
   ],
   "source": [
    "print(df['Company Name'].nunique())"
   ]
  },
  {
   "cell_type": "code",
   "execution_count": 9,
   "id": "0c3ec5ae-47e0-461a-b4d7-f8855bec1cc9",
   "metadata": {},
   "outputs": [
    {
     "data": {
      "text/plain": [
       "array(['Brooklyn', 'NY', 'New York', 'Long Island City', 'Staten Island',\n",
       "       'College Point', 'Lond Island City', 'Queens', 'Ozone Park',\n",
       "       'Forest Hills', 'Bronx', 'Brooklyn,', 'New YOrk', 'BRONX',\n",
       "       'Maspeth', 'QUEENS', 'BROOKLYN', 'Jamaica', 'Brookln', 'Ridgewood',\n",
       "       'GLENDALE', 'Flushing', 'Bronx,', 'Astoria', 'LONG ISLAND CITY',\n",
       "       'Springfield Gardens', 'BROOKLYN HEIGHT', 'Queens Village',\n",
       "       'NEW YORK', 'Brooklym', 'Far Rockaway', 'Woodside',\n",
       "       'COLLEGE POINT', 'RIDGEWOOD', 'PORT MORRIS', 'INWOOD', 'L.I.C.',\n",
       "       'bronx'], dtype=object)"
      ]
     },
     "execution_count": 9,
     "metadata": {},
     "output_type": "execute_result"
    }
   ],
   "source": [
    "df['City'].unique()"
   ]
  },
  {
   "cell_type": "code",
   "execution_count": 10,
   "id": "1a35e577-a5c5-4730-b526-97b26d77f9be",
   "metadata": {},
   "outputs": [],
   "source": [
    "df_queens = df[(df['City']=='Queens') | (df['City']=='QUEENS')]"
   ]
  },
  {
   "cell_type": "code",
   "execution_count": 11,
   "id": "3d771b24-2aec-43c9-8489-0b4f2d260b60",
   "metadata": {},
   "outputs": [
    {
     "data": {
      "text/plain": [
       "90.0"
      ]
     },
     "execution_count": 11,
     "metadata": {},
     "output_type": "execute_result"
    }
   ],
   "source": [
    "df_queens['Job created'].sum()"
   ]
  },
  {
   "cell_type": "code",
   "execution_count": 12,
   "id": "47b1a890-2cc0-4668-acf5-9681b95fd466",
   "metadata": {},
   "outputs": [],
   "source": [
    "df_email = df.dropna(subset=['company email'])"
   ]
  },
  {
   "cell_type": "code",
   "execution_count": 13,
   "id": "631cb591-8a6e-4e84-b755-3268a8f2a1b5",
   "metadata": {},
   "outputs": [
    {
     "name": "stdout",
     "output_type": "stream",
     "text": [
      "<class 'pandas.core.frame.DataFrame'>\n",
      "Int64Index: 433 entries, 0 to 449\n",
      "Data columns (total 26 columns):\n",
      " #   Column                                     Non-Null Count  Dtype  \n",
      "---  ------                                     --------------  -----  \n",
      " 0   Company Name                               433 non-null    object \n",
      " 1   company contact                            433 non-null    object \n",
      " 2   company email                              433 non-null    object \n",
      " 3   company phone                              433 non-null    object \n",
      " 4   Address                                    433 non-null    object \n",
      " 5   City                                       433 non-null    object \n",
      " 6   State                                      433 non-null    object \n",
      " 7   Postcode                                   433 non-null    int64  \n",
      " 8   Industry                                   433 non-null    object \n",
      " 9   Industry descr                             422 non-null    object \n",
      " 10  Company Type                               433 non-null    object \n",
      " 11  Current fulltime                           432 non-null    float64\n",
      " 12  Job created                                10 non-null     float64\n",
      " 13  Job retain                                 13 non-null     float64\n",
      " 14  Effective Date                             433 non-null    object \n",
      " 15  Total Savings                              433 non-null    float64\n",
      " 16  Savings from beginning receiving benefits  433 non-null    float64\n",
      " 17  Borough                                    433 non-null    object \n",
      " 18  Latitude                                   395 non-null    float64\n",
      " 19  Longitude                                  395 non-null    float64\n",
      " 20  Community Board                            395 non-null    float64\n",
      " 21  Council District                           395 non-null    float64\n",
      " 22  Census Tract                               395 non-null    float64\n",
      " 23  BIN                                        388 non-null    float64\n",
      " 24  BBL                                        388 non-null    float64\n",
      " 25  NTA                                        395 non-null    object \n",
      "dtypes: float64(12), int64(1), object(13)\n",
      "memory usage: 91.3+ KB\n"
     ]
    }
   ],
   "source": [
    "df_email.info()"
   ]
  },
  {
   "cell_type": "code",
   "execution_count": 14,
   "id": "559a939b-1d16-4d0b-a84d-ea7f06efec36",
   "metadata": {},
   "outputs": [
    {
     "data": {
      "text/plain": [
       "420"
      ]
     },
     "execution_count": 14,
     "metadata": {},
     "output_type": "execute_result"
    }
   ],
   "source": [
    "df_email['company email'].nunique()"
   ]
  },
  {
   "cell_type": "code",
   "execution_count": 15,
   "id": "4de0df75-4291-4f23-9ef5-443d0bdab9ff",
   "metadata": {},
   "outputs": [
    {
     "data": {
      "text/plain": [
       "0                                                Midwood\n",
       "1                 SoHo-TriBeCa-Civic Center-Little Italy\n",
       "2                      Battery Park City-Lower Manhattan\n",
       "3                                       Sunset Park West\n",
       "4                      Battery Park City-Lower Manhattan\n",
       "                             ...                        \n",
       "445                                       Bushwick South\n",
       "446                                       Bushwick South\n",
       "447    Mariner's Harbor-Arlington-Port Ivory-Granitev...\n",
       "448                                  Crown Heights North\n",
       "449                                              Astoria\n",
       "Name: NTA, Length: 450, dtype: object"
      ]
     },
     "execution_count": 15,
     "metadata": {},
     "output_type": "execute_result"
    }
   ],
   "source": [
    "df['NTA']"
   ]
  },
  {
   "cell_type": "code",
   "execution_count": 16,
   "id": "f83174cd-f389-4293-ac6c-5fe3f3f8438a",
   "metadata": {},
   "outputs": [],
   "source": [
    "df_nta = df.dropna(subset=['NTA'])"
   ]
  },
  {
   "cell_type": "code",
   "execution_count": 17,
   "id": "1fe18efc-e404-42f3-bf7c-8c8b51279b0e",
   "metadata": {},
   "outputs": [
    {
     "name": "stdout",
     "output_type": "stream",
     "text": [
      "<class 'pandas.core.frame.DataFrame'>\n",
      "Int64Index: 409 entries, 0 to 449\n",
      "Data columns (total 26 columns):\n",
      " #   Column                                     Non-Null Count  Dtype  \n",
      "---  ------                                     --------------  -----  \n",
      " 0   Company Name                               409 non-null    object \n",
      " 1   company contact                            409 non-null    object \n",
      " 2   company email                              395 non-null    object \n",
      " 3   company phone                              409 non-null    object \n",
      " 4   Address                                    409 non-null    object \n",
      " 5   City                                       409 non-null    object \n",
      " 6   State                                      409 non-null    object \n",
      " 7   Postcode                                   409 non-null    int64  \n",
      " 8   Industry                                   409 non-null    object \n",
      " 9   Industry descr                             395 non-null    object \n",
      " 10  Company Type                               409 non-null    object \n",
      " 11  Current fulltime                           405 non-null    float64\n",
      " 12  Job created                                10 non-null     float64\n",
      " 13  Job retain                                 13 non-null     float64\n",
      " 14  Effective Date                             409 non-null    object \n",
      " 15  Total Savings                              409 non-null    float64\n",
      " 16  Savings from beginning receiving benefits  409 non-null    float64\n",
      " 17  Borough                                    409 non-null    object \n",
      " 18  Latitude                                   409 non-null    float64\n",
      " 19  Longitude                                  409 non-null    float64\n",
      " 20  Community Board                            409 non-null    float64\n",
      " 21  Council District                           409 non-null    float64\n",
      " 22  Census Tract                               409 non-null    float64\n",
      " 23  BIN                                        400 non-null    float64\n",
      " 24  BBL                                        400 non-null    float64\n",
      " 25  NTA                                        409 non-null    object \n",
      "dtypes: float64(12), int64(1), object(13)\n",
      "memory usage: 86.3+ KB\n"
     ]
    }
   ],
   "source": [
    "df_nta.info()"
   ]
  },
  {
   "cell_type": "code",
   "execution_count": 18,
   "id": "d27baa1f-c4ea-4cc0-99e9-0f0a1f63b3cf",
   "metadata": {},
   "outputs": [],
   "source": [
    "nta_groups = df_nta.groupby('NTA')"
   ]
  },
  {
   "cell_type": "code",
   "execution_count": 19,
   "id": "71f7b858-a47c-456f-aa81-bc5a0414a5be",
   "metadata": {},
   "outputs": [
    {
     "data": {
      "text/plain": [
       "400"
      ]
     },
     "execution_count": 19,
     "metadata": {},
     "output_type": "execute_result"
    }
   ],
   "source": [
    "df_nta['Company Name'].nunique()"
   ]
  },
  {
   "cell_type": "code",
   "execution_count": 20,
   "id": "3b3349d3-b1b4-478e-9e4c-45e77e632680",
   "metadata": {},
   "outputs": [],
   "source": [
    "df_nta_with_five_company = nta_groups.filter(lambda x: x['Company Name'].count() >= 5)"
   ]
  },
  {
   "cell_type": "code",
   "execution_count": 21,
   "id": "692f4e48-d2c2-43bc-8f31-7a06650bfc69",
   "metadata": {},
   "outputs": [
    {
     "data": {
      "text/plain": [
       "20"
      ]
     },
     "execution_count": 21,
     "metadata": {},
     "output_type": "execute_result"
    }
   ],
   "source": [
    "df_nta_with_five_company['NTA'].nunique()"
   ]
  },
  {
   "cell_type": "code",
   "execution_count": 22,
   "id": "c0bfecee-0b70-4cff-afc0-c14e57b7de46",
   "metadata": {},
   "outputs": [],
   "source": [
    "d_agg = {'Total Savings': 'mean', 'Job created': 'sum'}"
   ]
  },
  {
   "cell_type": "code",
   "execution_count": 23,
   "id": "d88c5e90-9426-43be-ae05-d4cb4d45fc31",
   "metadata": {},
   "outputs": [],
   "source": [
    "df_result = (df_nta_with_five_company.groupby('NTA', as_index=False)\n",
    "       .agg(d_agg)\n",
    "       .rename(columns={'Total Savings':'avg savings', 'Job created':'total job created'}))"
   ]
  },
  {
   "cell_type": "code",
   "execution_count": 24,
   "id": "c5bab4b0-4957-4518-944f-0954de10d496",
   "metadata": {},
   "outputs": [
    {
     "data": {
      "text/html": [
       "<div>\n",
       "<style scoped>\n",
       "    .dataframe tbody tr th:only-of-type {\n",
       "        vertical-align: middle;\n",
       "    }\n",
       "\n",
       "    .dataframe tbody tr th {\n",
       "        vertical-align: top;\n",
       "    }\n",
       "\n",
       "    .dataframe thead th {\n",
       "        text-align: right;\n",
       "    }\n",
       "</style>\n",
       "<table border=\"1\" class=\"dataframe\">\n",
       "  <thead>\n",
       "    <tr style=\"text-align: right;\">\n",
       "      <th></th>\n",
       "      <th>NTA</th>\n",
       "      <th>avg savings</th>\n",
       "      <th>total job created</th>\n",
       "    </tr>\n",
       "  </thead>\n",
       "  <tbody>\n",
       "    <tr>\n",
       "      <th>0</th>\n",
       "      <td>Battery Park City-Lower Manhattan</td>\n",
       "      <td>469890.796667</td>\n",
       "      <td>0.0</td>\n",
       "    </tr>\n",
       "    <tr>\n",
       "      <th>1</th>\n",
       "      <td>Bushwick South</td>\n",
       "      <td>26140.455000</td>\n",
       "      <td>10.0</td>\n",
       "    </tr>\n",
       "    <tr>\n",
       "      <th>2</th>\n",
       "      <td>Carroll Gardens-Columbia Street-Red Hook</td>\n",
       "      <td>24337.390000</td>\n",
       "      <td>0.0</td>\n",
       "    </tr>\n",
       "    <tr>\n",
       "      <th>3</th>\n",
       "      <td>College Point</td>\n",
       "      <td>17159.372857</td>\n",
       "      <td>2.0</td>\n",
       "    </tr>\n",
       "    <tr>\n",
       "      <th>4</th>\n",
       "      <td>Crown Heights North</td>\n",
       "      <td>4036.298889</td>\n",
       "      <td>0.0</td>\n",
       "    </tr>\n",
       "    <tr>\n",
       "      <th>5</th>\n",
       "      <td>DUMBO-Vinegar Hill-Downtown Brooklyn-Boerum Hill</td>\n",
       "      <td>59950.340000</td>\n",
       "      <td>0.0</td>\n",
       "    </tr>\n",
       "    <tr>\n",
       "      <th>6</th>\n",
       "      <td>East New York</td>\n",
       "      <td>48433.093333</td>\n",
       "      <td>15.0</td>\n",
       "    </tr>\n",
       "    <tr>\n",
       "      <th>7</th>\n",
       "      <td>East Williamsburg</td>\n",
       "      <td>13990.626364</td>\n",
       "      <td>0.0</td>\n",
       "    </tr>\n",
       "    <tr>\n",
       "      <th>8</th>\n",
       "      <td>Greenpoint</td>\n",
       "      <td>9753.649286</td>\n",
       "      <td>0.0</td>\n",
       "    </tr>\n",
       "    <tr>\n",
       "      <th>9</th>\n",
       "      <td>Hunters Point-Sunnyside-West Maspeth</td>\n",
       "      <td>23931.398933</td>\n",
       "      <td>0.0</td>\n",
       "    </tr>\n",
       "    <tr>\n",
       "      <th>10</th>\n",
       "      <td>Hunts Point</td>\n",
       "      <td>39246.016154</td>\n",
       "      <td>12.0</td>\n",
       "    </tr>\n",
       "    <tr>\n",
       "      <th>11</th>\n",
       "      <td>Manhattanville</td>\n",
       "      <td>2760.888889</td>\n",
       "      <td>0.0</td>\n",
       "    </tr>\n",
       "    <tr>\n",
       "      <th>12</th>\n",
       "      <td>Maspeth</td>\n",
       "      <td>6658.283333</td>\n",
       "      <td>10.0</td>\n",
       "    </tr>\n",
       "    <tr>\n",
       "      <th>13</th>\n",
       "      <td>Mott Haven-Port Morris</td>\n",
       "      <td>17843.937857</td>\n",
       "      <td>10.0</td>\n",
       "    </tr>\n",
       "    <tr>\n",
       "      <th>14</th>\n",
       "      <td>Queensbridge-Ravenswood-Long Island City</td>\n",
       "      <td>61830.770625</td>\n",
       "      <td>0.0</td>\n",
       "    </tr>\n",
       "    <tr>\n",
       "      <th>15</th>\n",
       "      <td>SoHo-TriBeCa-Civic Center-Little Italy</td>\n",
       "      <td>37214.024000</td>\n",
       "      <td>0.0</td>\n",
       "    </tr>\n",
       "    <tr>\n",
       "      <th>16</th>\n",
       "      <td>Springfield Gardens South-Brookville</td>\n",
       "      <td>17757.662000</td>\n",
       "      <td>0.0</td>\n",
       "    </tr>\n",
       "    <tr>\n",
       "      <th>17</th>\n",
       "      <td>Steinway</td>\n",
       "      <td>11227.155714</td>\n",
       "      <td>20.0</td>\n",
       "    </tr>\n",
       "    <tr>\n",
       "      <th>18</th>\n",
       "      <td>Sunset Park West</td>\n",
       "      <td>14316.976875</td>\n",
       "      <td>0.0</td>\n",
       "    </tr>\n",
       "    <tr>\n",
       "      <th>19</th>\n",
       "      <td>park-cemetery-etc-Brooklyn</td>\n",
       "      <td>14327.419333</td>\n",
       "      <td>0.0</td>\n",
       "    </tr>\n",
       "  </tbody>\n",
       "</table>\n",
       "</div>"
      ],
      "text/plain": [
       "                                                 NTA    avg savings  \\\n",
       "0                  Battery Park City-Lower Manhattan  469890.796667   \n",
       "1                                     Bushwick South   26140.455000   \n",
       "2           Carroll Gardens-Columbia Street-Red Hook   24337.390000   \n",
       "3                                      College Point   17159.372857   \n",
       "4                                Crown Heights North    4036.298889   \n",
       "5   DUMBO-Vinegar Hill-Downtown Brooklyn-Boerum Hill   59950.340000   \n",
       "6                                      East New York   48433.093333   \n",
       "7                                  East Williamsburg   13990.626364   \n",
       "8                                         Greenpoint    9753.649286   \n",
       "9               Hunters Point-Sunnyside-West Maspeth   23931.398933   \n",
       "10                                       Hunts Point   39246.016154   \n",
       "11                                    Manhattanville    2760.888889   \n",
       "12                                           Maspeth    6658.283333   \n",
       "13                            Mott Haven-Port Morris   17843.937857   \n",
       "14          Queensbridge-Ravenswood-Long Island City   61830.770625   \n",
       "15            SoHo-TriBeCa-Civic Center-Little Italy   37214.024000   \n",
       "16              Springfield Gardens South-Brookville   17757.662000   \n",
       "17                                          Steinway   11227.155714   \n",
       "18                                  Sunset Park West   14316.976875   \n",
       "19                        park-cemetery-etc-Brooklyn   14327.419333   \n",
       "\n",
       "    total job created  \n",
       "0                 0.0  \n",
       "1                10.0  \n",
       "2                 0.0  \n",
       "3                 2.0  \n",
       "4                 0.0  \n",
       "5                 0.0  \n",
       "6                15.0  \n",
       "7                 0.0  \n",
       "8                 0.0  \n",
       "9                 0.0  \n",
       "10               12.0  \n",
       "11                0.0  \n",
       "12               10.0  \n",
       "13               10.0  \n",
       "14                0.0  \n",
       "15                0.0  \n",
       "16                0.0  \n",
       "17               20.0  \n",
       "18                0.0  \n",
       "19                0.0  "
      ]
     },
     "execution_count": 24,
     "metadata": {},
     "output_type": "execute_result"
    }
   ],
   "source": [
    "df_result"
   ]
  },
  {
   "cell_type": "code",
   "execution_count": 81,
   "id": "59b8a89e-aabf-4e14-abfb-8a09ee733a7a",
   "metadata": {},
   "outputs": [],
   "source": [
    "from datetime import datetime\n",
    "import os\n",
    "\n",
    "date = datetime.now().strftime('%Y%m%d')\n",
    "file_path = os.path.join('.', 'results_' + date + '.csv')\n",
    "df_result.to_csv(file_path, index=True)"
   ]
  },
  {
   "cell_type": "markdown",
   "id": "c6eeed3d-fc51-4d57-87e7-c996614ffbfc",
   "metadata": {},
   "source": [
    "Day 5: Using the same data set and results that you were working with in the pandas action items section (Day 4), create a\n",
    "\n",
    "    - scatter plot of jobs created versus average savings. Use both a standard and a logarithmic scale for the average savings.\n",
    "    - histogram of the log of the average total savings.\n",
    "    - line plot of the total jobs created for each month.\n"
   ]
  },
  {
   "cell_type": "code",
   "execution_count": 33,
   "id": "151e1015-0d50-4ee9-8c0d-33e9db73b376",
   "metadata": {},
   "outputs": [],
   "source": [
    "import matplotlib as mpl\n",
    "import matplotlib.pyplot as plt\n",
    "import numpy as np"
   ]
  },
  {
   "cell_type": "code",
   "execution_count": 31,
   "id": "8f50a0b2-71fe-4dbd-9171-a39998941d5d",
   "metadata": {},
   "outputs": [
    {
     "data": {
      "image/png": "[encoded data removed]",
      "text/plain": [
       "<Figure size 720x194.4 with 2 Axes>"
      ]
     },
     "metadata": {
      "needs_background": "light"
     },
     "output_type": "display_data"
    }
   ],
   "source": [
    "fig, (ax1, ax2) = plt.subplots(1, 2, figsize=(10, 2.7))\n",
    "ax1.scatter('avg savings', 'total job created', data=df_result)\n",
    "ax1.set_xlabel('avg savings')\n",
    "ax1.set_ylabel('total job created');\n",
    "\n",
    "ax2.scatter('avg savings', 'total job created', data=df_result)\n",
    "ax2.set_xscale('log')\n",
    "ax2.set_xlabel('avg savings')\n",
    "ax2.set_ylabel('total job created');"
   ]
  },
  {
   "cell_type": "code",
   "execution_count": 36,
   "id": "a8109d88-c651-4fbd-a93b-f0d11d2ad2fc",
   "metadata": {},
   "outputs": [
    {
     "data": {
      "image/png": "[encoded data removed]",
      "text/plain": [
       "<Figure size 360x194.4 with 1 Axes>"
      ]
     },
     "metadata": {
      "needs_background": "light"
     },
     "output_type": "display_data"
    }
   ],
   "source": [
    "fig, ax = plt.subplots(figsize=(5, 2.7))\n",
    "# the histogram of the data\n",
    "n, bins, patches = ax.hist(df_result['avg savings'], 50, density=1, facecolor='C0', alpha=0.75)\n",
    "\n",
    "ax.set_xscale('log')\n",
    "ax.set_xlabel('avg savings')\n",
    "ax.set_ylabel('Probability')\n",
    "# ax.set_title('')\n",
    "# ax.text(75, .025, r'$\\mu=115,\\ \\sigma=15$')\n",
    "# ax.axis([55, 175, 0, 0.03])\n",
    "ax.grid(True);"
   ]
  },
  {
   "cell_type": "code",
   "execution_count": 39,
   "id": "aff747b1-4562-4c75-8f30-b6189036d4d4",
   "metadata": {},
   "outputs": [],
   "source": [
    "df_jobs = df[['Job created', 'Effective Date']]"
   ]
  },
  {
   "cell_type": "code",
   "execution_count": 38,
   "id": "f8e768ee-1620-4189-b0b8-f8b023ff70fb",
   "metadata": {},
   "outputs": [
    {
     "data": {
      "text/html": [
       "<div>\n",
       "<style scoped>\n",
       "    .dataframe tbody tr th:only-of-type {\n",
       "        vertical-align: middle;\n",
       "    }\n",
       "\n",
       "    .dataframe tbody tr th {\n",
       "        vertical-align: top;\n",
       "    }\n",
       "\n",
       "    .dataframe thead th {\n",
       "        text-align: right;\n",
       "    }\n",
       "</style>\n",
       "<table border=\"1\" class=\"dataframe\">\n",
       "  <thead>\n",
       "    <tr style=\"text-align: right;\">\n",
       "      <th></th>\n",
       "      <th>Job created</th>\n",
       "      <th>Effective Date</th>\n",
       "    </tr>\n",
       "  </thead>\n",
       "  <tbody>\n",
       "    <tr>\n",
       "      <th>0</th>\n",
       "      <td>NaN</td>\n",
       "      <td>03/04/2005</td>\n",
       "    </tr>\n",
       "    <tr>\n",
       "      <th>1</th>\n",
       "      <td>NaN</td>\n",
       "      <td>04/02/2008</td>\n",
       "    </tr>\n",
       "    <tr>\n",
       "      <th>2</th>\n",
       "      <td>NaN</td>\n",
       "      <td>01/05/2015</td>\n",
       "    </tr>\n",
       "    <tr>\n",
       "      <th>3</th>\n",
       "      <td>NaN</td>\n",
       "      <td>02/03/2020</td>\n",
       "    </tr>\n",
       "    <tr>\n",
       "      <th>4</th>\n",
       "      <td>NaN</td>\n",
       "      <td>06/30/2017</td>\n",
       "    </tr>\n",
       "  </tbody>\n",
       "</table>\n",
       "</div>"
      ],
      "text/plain": [
       "   Job created Effective Date\n",
       "0          NaN     03/04/2005\n",
       "1          NaN     04/02/2008\n",
       "2          NaN     01/05/2015\n",
       "3          NaN     02/03/2020\n",
       "4          NaN     06/30/2017"
      ]
     },
     "execution_count": 38,
     "metadata": {},
     "output_type": "execute_result"
    }
   ],
   "source": [
    "df_jobs.head()"
   ]
  },
  {
   "cell_type": "code",
   "execution_count": 42,
   "id": "35010323-763f-4936-9065-1be2ad04f380",
   "metadata": {},
   "outputs": [
    {
     "data": {
      "text/html": [
       "<div>\n",
       "<style scoped>\n",
       "    .dataframe tbody tr th:only-of-type {\n",
       "        vertical-align: middle;\n",
       "    }\n",
       "\n",
       "    .dataframe tbody tr th {\n",
       "        vertical-align: top;\n",
       "    }\n",
       "\n",
       "    .dataframe thead th {\n",
       "        text-align: right;\n",
       "    }\n",
       "</style>\n",
       "<table border=\"1\" class=\"dataframe\">\n",
       "  <thead>\n",
       "    <tr style=\"text-align: right;\">\n",
       "      <th></th>\n",
       "      <th>Job created</th>\n",
       "      <th>Effective Date</th>\n",
       "    </tr>\n",
       "  </thead>\n",
       "  <tbody>\n",
       "    <tr>\n",
       "      <th>29</th>\n",
       "      <td>10.0</td>\n",
       "      <td>03/05/2004</td>\n",
       "    </tr>\n",
       "    <tr>\n",
       "      <th>37</th>\n",
       "      <td>60.0</td>\n",
       "      <td>06/28/2007</td>\n",
       "    </tr>\n",
       "    <tr>\n",
       "      <th>95</th>\n",
       "      <td>5.0</td>\n",
       "      <td>11/06/2007</td>\n",
       "    </tr>\n",
       "    <tr>\n",
       "      <th>120</th>\n",
       "      <td>12.0</td>\n",
       "      <td>02/03/2005</td>\n",
       "    </tr>\n",
       "    <tr>\n",
       "      <th>137</th>\n",
       "      <td>10.0</td>\n",
       "      <td>03/01/2006</td>\n",
       "    </tr>\n",
       "    <tr>\n",
       "      <th>324</th>\n",
       "      <td>2.0</td>\n",
       "      <td>05/02/2007</td>\n",
       "    </tr>\n",
       "    <tr>\n",
       "      <th>353</th>\n",
       "      <td>2.0</td>\n",
       "      <td>04/10/2007</td>\n",
       "    </tr>\n",
       "    <tr>\n",
       "      <th>414</th>\n",
       "      <td>15.0</td>\n",
       "      <td>02/05/1993</td>\n",
       "    </tr>\n",
       "    <tr>\n",
       "      <th>432</th>\n",
       "      <td>3.0</td>\n",
       "      <td>06/08/2007</td>\n",
       "    </tr>\n",
       "    <tr>\n",
       "      <th>433</th>\n",
       "      <td>20.0</td>\n",
       "      <td>07/02/2007</td>\n",
       "    </tr>\n",
       "    <tr>\n",
       "      <th>445</th>\n",
       "      <td>10.0</td>\n",
       "      <td>12/09/2008</td>\n",
       "    </tr>\n",
       "  </tbody>\n",
       "</table>\n",
       "</div>"
      ],
      "text/plain": [
       "     Job created Effective Date\n",
       "29          10.0     03/05/2004\n",
       "37          60.0     06/28/2007\n",
       "95           5.0     11/06/2007\n",
       "120         12.0     02/03/2005\n",
       "137         10.0     03/01/2006\n",
       "324          2.0     05/02/2007\n",
       "353          2.0     04/10/2007\n",
       "414         15.0     02/05/1993\n",
       "432          3.0     06/08/2007\n",
       "433         20.0     07/02/2007\n",
       "445         10.0     12/09/2008"
      ]
     },
     "execution_count": 42,
     "metadata": {},
     "output_type": "execute_result"
    }
   ],
   "source": [
    "df_jobs.dropna(subset=['Job created'])"
   ]
  },
  {
   "cell_type": "code",
   "execution_count": null,
   "id": "051a143d-3815-438e-ae97-b897bba2641b",
   "metadata": {},
   "outputs": [],
   "source": [
    "df_jobs['Effective Date'] = pd.to_datetime(df_jobs['Effective Date'], "
   ]
  }
 ],
 "metadata": {
  "kernelspec": {
   "display_name": "Python 3 (ipykernel)",
   "language": "python",
   "name": "python3"
  },
  "language_info": {
   "codemirror_mode": {
    "name": "ipython",
    "version": 3
   },
   "file_extension": ".py",
   "mimetype": "text/x-python",
   "name": "python",
   "nbconvert_exporter": "python",
   "pygments_lexer": "ipython3",
   "version": "3.9.7"
  }
 },
 "nbformat": 4,
 "nbformat_minor": 5
}
